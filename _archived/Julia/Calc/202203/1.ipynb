{
 "cells": [
  {
   "cell_type": "markdown",
   "metadata": {},
   "source": [
    "#### Hahaha\n",
    "\n",
    "$\\sum E=mc^2$\n",
    "\n"
   ]
  },
  {
   "cell_type": "code",
   "execution_count": 2,
   "metadata": {},
   "outputs": [
    {
     "name": "stdout",
     "output_type": "stream",
     "text": [
      "1\n",
      "2\n",
      "3\n",
      "4\n",
      "5\n",
      "6\n",
      "7\n",
      "8\n",
      "9\n",
      "10\n"
     ]
    },
    {
     "data": {
      "text/plain": [
       "10-element Vector{Nothing}:\n",
       " nothing\n",
       " nothing\n",
       " nothing\n",
       " nothing\n",
       " nothing\n",
       " nothing\n",
       " nothing\n",
       " nothing\n",
       " nothing\n",
       " nothing"
      ]
     },
     "metadata": {},
     "output_type": "display_data"
    }
   ],
   "source": [
    "println.(1:10)\n"
   ]
  },
  {
   "cell_type": "code",
   "execution_count": 9,
   "metadata": {},
   "outputs": [
    {
     "name": "stdout",
     "output_type": "stream",
     "text": [
      "0.3480000000000061%\n",
      "0.8966666666666642%\n",
      "0.014285714285719057%\n",
      "0.16249999999999876%\n",
      "0.23333333333334216%\n",
      "0.12199999999999989%\n",
      "0.04181818181818125%\n",
      "0.3233333333333347%\n"
     ]
    },
    {
     "data": {
      "text/plain": [
       "1×8 Matrix{Nothing}:\n",
       " nothing  nothing  nothing  nothing  nothing  nothing  nothing  nothing"
      ]
     },
     "metadata": {},
     "output_type": "display_data"
    }
   ],
   "source": [
    "d = collect(2.5:0.5:6.0)'\n",
    "D = [2.5087 3.0269 3.5005 3.9935 4.4895 4.9939 5.5023 6.0194]\n",
    "a = abs.(D .- d) ./ d\n",
    "println.(a * 100, \"%\")"
   ]
  }
 ],
 "metadata": {
  "kernelspec": {
   "display_name": "Julia 1.7.0",
   "language": "julia",
   "name": "julia-1.7"
  },
  "language_info": {
   "file_extension": ".jl",
   "mimetype": "application/julia",
   "name": "julia",
   "version": "1.7.0"
  },
  "orig_nbformat": 4
 },
 "nbformat": 4,
 "nbformat_minor": 2
}
