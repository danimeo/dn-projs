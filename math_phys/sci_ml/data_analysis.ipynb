{
 "cells": [
  {
   "cell_type": "markdown",
   "source": [
    "## Python数据分析技能积累\n",
    "------\n",
    "### 数据表示与存储\n",
    "numpy、pandas\n",
    "\n",
    "### 数据清洗与预处理\n",
    "字符串处理、pandas\n",
    "\n",
    "### 分析\n",
    "……\n",
    "\n",
    "### 可视化及生成报告\n",
    "matplotlib"
   ],
   "metadata": {
    "collapsed": false,
    "pycharm": {
     "name": "#%% md\n"
    }
   }
  },
  {
   "cell_type": "markdown",
   "source": [
    "### 1. 数据表示与存储"
   ],
   "metadata": {
    "collapsed": false,
    "pycharm": {
     "name": "#%% md\n"
    }
   }
  },
  {
   "cell_type": "code",
   "execution_count": 6,
   "metadata": {
    "collapsed": true,
    "pycharm": {
     "name": "#%%\n"
    }
   },
   "outputs": [
    {
     "name": "stdout",
     "output_type": "stream",
     "text": [
      "2.0\n",
      "8\n"
     ]
    }
   ],
   "source": [
    "import math\n",
    "print(1+2*math.sin(math.pi/6))\n",
    "print(8)"
   ]
  },
  {
   "cell_type": "code",
   "execution_count": 30,
   "outputs": [
    {
     "name": "stdout",
     "output_type": "stream",
     "text": [
      "5 6\n"
     ]
    }
   ],
   "source": [
    "x = [1, 2, 6, 4, 5, 6]\n",
    "m2 = max(x)\n",
    "m1 = max([e for e in x if e != m2])\n",
    "print(m1, m2)"
   ],
   "metadata": {
    "collapsed": false,
    "pycharm": {
     "name": "#%%\n"
    }
   }
  },
  {
   "cell_type": "code",
   "execution_count": 10,
   "outputs": [
    {
     "name": "stdout",
     "output_type": "stream",
     "text": [
      "[31, 30, 28, 31, 30]\n"
     ]
    }
   ],
   "source": [
    "# return Y % 4 == 0 and Y % 100 != 0 or Y % 400 == 0\n",
    "\n",
    "dm = [31, 30, 28 + int(False), 31, 30, ]\n",
    "print(dm)"
   ],
   "metadata": {
    "collapsed": false,
    "pycharm": {
     "name": "#%%\n"
    }
   }
  },
  {
   "cell_type": "code",
   "execution_count": 29,
   "outputs": [
    {
     "name": "stdout",
     "output_type": "stream",
     "text": [
      "1\t\n",
      "1\t1\t\n",
      "1\t2\t1\t\n",
      "1\t3\t3\t1\t\n",
      "1\t4\t6\t4\t1\t\n",
      "1\t5\t10\t10\t5\t1\t\n"
     ]
    }
   ],
   "source": [
    "a = []\n",
    "for n in range(6):\n",
    "    a = [1] + [b + a[i+1] if i < n-1 else b for i, b in enumerate(a)]\n",
    "    print(*a, sep='\\t', end='\\t\\n')"
   ],
   "metadata": {
    "collapsed": false,
    "pycharm": {
     "name": "#%%\n"
    }
   }
  },
  {
   "cell_type": "code",
   "execution_count": 4,
   "outputs": [
    {
     "name": "stdout",
     "output_type": "stream",
     "text": [
      "[1 2 3 4]\n",
      "['B:\\\\codes\\\\ds\\\\DBasics\\\\DBasics\\\\py_basics', 'B:\\\\codes\\\\ds\\\\DBasics\\\\DBasics', 'C:\\\\Python\\\\Python39', 'c:\\\\python\\\\python39\\\\python39.zip', 'c:\\\\python\\\\python39\\\\DLLs', 'c:\\\\python\\\\python39\\\\lib', '', 'c:\\\\python\\\\python39\\\\lib\\\\site-packages', 'c:\\\\python\\\\python39\\\\lib\\\\site-packages\\\\win32', 'c:\\\\python\\\\python39\\\\lib\\\\site-packages\\\\win32\\\\lib', 'c:\\\\python\\\\python39\\\\lib\\\\site-packages\\\\Pythonwin', 'c:\\\\python\\\\python39\\\\lib\\\\site-packages\\\\IPython\\\\extensions', 'C:\\\\Users\\\\Dajun\\\\.ipython', 'C:\\\\Program Files\\\\JetBrains\\\\JetBrains DataSpell 213.2094.12\\\\plugins\\\\python-ce\\\\helpers\\\\pydev', 'C:\\\\Program Files\\\\JetBrains\\\\JetBrains DataSpell 213.2094.12\\\\plugins\\\\python-ce\\\\helpers-pro\\\\jupyter_debug'] 1635264936.3645413\n",
      "\n",
      "<function load_iris at 0x0000022B4EBD2940>\n"
     ]
    }
   ],
   "source": [
    "from sklearn.datasets import load_iris\n",
    "# import pandas as pd\n",
    "import numpy as np\n",
    "print(np.array([1, 2, 3, 4]))\n",
    "import sys, time\n",
    "print(sys.path, time.time())\n",
    "print()\n",
    "print(load_iris)"
   ],
   "metadata": {
    "collapsed": false,
    "pycharm": {
     "name": "#%%\n"
    }
   }
  },
  {
   "cell_type": "code",
   "execution_count": 2,
   "outputs": [
    {
     "name": "stdout",
     "output_type": "stream",
     "text": [
      "0\n",
      "1\n",
      "2\n",
      "3\n",
      "4\n",
      "5\n",
      "6\n",
      "7\n",
      "8\n",
      "9\n",
      "lol\n"
     ]
    }
   ],
   "source": [
    "for i in range(10):\n",
    "    '''if i == 5:\n",
    "        break'''\n",
    "    print(i)\n",
    "else:\n",
    "    print('lol')"
   ],
   "metadata": {
    "collapsed": false,
    "pycharm": {
     "name": "#%%\n"
    }
   }
  },
  {
   "cell_type": "code",
   "execution_count": 3,
   "outputs": [
    {
     "name": "stdout",
     "output_type": "stream",
     "text": [
      "32\n"
     ]
    }
   ],
   "source": [
    "x = range(1,4)\n",
    "y = range(4,7)\n",
    "print(sum([i*j for i,j in zip(x,y)]))"
   ],
   "metadata": {
    "collapsed": false,
    "pycharm": {
     "name": "#%%\n"
    }
   }
  },
  {
   "cell_type": "code",
   "execution_count": 4,
   "outputs": [
    {
     "name": "stdout",
     "output_type": "stream",
     "text": [
      "[0, 2, 3]\n"
     ]
    }
   ],
   "source": [
    "x = [3, 2, 3, 3, 4]\n",
    "print([index for index, value in enumerate(x) if value==3])"
   ],
   "metadata": {
    "collapsed": false,
    "pycharm": {
     "name": "#%%\n"
    }
   }
  },
  {
   "cell_type": "code",
   "execution_count": 5,
   "outputs": [
    {
     "name": "stdout",
     "output_type": "stream",
     "text": [
      "345\n"
     ]
    }
   ],
   "source": [
    "x = {i:str(i+3) for i in range(3)}\n",
    "print(''.join(x.values()))"
   ],
   "metadata": {
    "collapsed": false,
    "pycharm": {
     "name": "#%%\n"
    }
   }
  },
  {
   "cell_type": "code",
   "execution_count": 6,
   "outputs": [
    {
     "name": "stdout",
     "output_type": "stream",
     "text": [
      "[0, 0]\n"
     ]
    }
   ],
   "source": [
    "x = [3,5,3,7]\n",
    "print([x.index(i) for i in x if i==3])"
   ],
   "metadata": {
    "collapsed": false,
    "pycharm": {
     "name": "#%%\n"
    }
   }
  },
  {
   "cell_type": "code",
   "execution_count": 7,
   "outputs": [
    {
     "name": "stdout",
     "output_type": "stream",
     "text": [
      "[9]\n"
     ]
    }
   ],
   "source": [
    "print([i for i in range(10) if i>8])"
   ],
   "metadata": {
    "collapsed": false,
    "pycharm": {
     "name": "#%%\n"
    }
   }
  },
  {
   "cell_type": "code",
   "execution_count": 9,
   "outputs": [
    {
     "name": "stdout",
     "output_type": "stream",
     "text": [
      "93python22\n"
     ]
    }
   ],
   "source": [
    "w = input('请输入数字和字母构成的字符串: ')\n",
    "for x in w:\n",
    "    if '0' <= x <='9':\n",
    "        continue\n",
    "    else:\n",
    "        w.replace(x,'')\n",
    "print(w)"
   ],
   "metadata": {
    "collapsed": false,
    "pycharm": {
     "name": "#%%\n"
    }
   }
  },
  {
   "cell_type": "code",
   "execution_count": 8,
   "outputs": [
    {
     "name": "stdout",
     "output_type": "stream",
     "text": [
      "1000\n",
      "500.0\n",
      "250.0\n",
      "125.0\n",
      "62.5\n",
      "31.25\n",
      "15.625\n",
      "7.8125\n",
      "3.90625\n",
      "1.953125\n"
     ]
    }
   ],
   "source": [
    "k = 1000\n",
    "while k > 1:\n",
    "    print(k)\n",
    "    k = k / 2"
   ],
   "metadata": {
    "collapsed": false,
    "pycharm": {
     "name": "#%%\n"
    }
   }
  },
  {
   "cell_type": "code",
   "execution_count": 11,
   "outputs": [
    {
     "name": "stdout",
     "output_type": "stream",
     "text": [
      "[('orange', 6), ('pear', 5), ('apple', 3), ('banana', 1)]\n"
     ]
    }
   ],
   "source": [
    "basket = {'orange':6, 'apple':3, 'pear':5, 'banana':1}\n",
    "print(sorted(basket.items(), key=lambda e:e[1], reverse=True))"
   ],
   "metadata": {
    "collapsed": false,
    "pycharm": {
     "name": "#%%\n"
    }
   }
  },
  {
   "cell_type": "code",
   "execution_count": 10,
   "outputs": [
    {
     "data": {
      "text/plain": "[2, 4]"
     },
     "execution_count": 10,
     "metadata": {},
     "output_type": "execute_result"
    }
   ],
   "source": [
    "[index for index, value in enumerate([3,5,7,3,7]) if value == max([3,5,7,3,7])]"
   ],
   "metadata": {
    "collapsed": false,
    "pycharm": {
     "name": "#%%\n"
    }
   }
  },
  {
   "cell_type": "code",
   "execution_count": 12,
   "outputs": [
    {
     "name": "stdout",
     "output_type": "stream",
     "text": [
      "['1', '2', '3', '0']\n"
     ]
    }
   ],
   "source": [
    "dat=['1', '2', '3', '0', '0', '0']\n",
    "for item in dat:\n",
    "    if item == '0':\n",
    "        dat.remove(item)\n",
    "print(dat)"
   ],
   "metadata": {
    "collapsed": false,
    "pycharm": {
     "name": "#%%\n"
    }
   }
  },
  {
   "cell_type": "code",
   "execution_count": 13,
   "outputs": [
    {
     "name": "stdout",
     "output_type": "stream",
     "text": [
      "('p', 2)\n"
     ]
    }
   ],
   "source": [
    "list1 = ['p','o','p','i','t','e','m']\n",
    "result = dict()\n",
    "for ch in list1:\n",
    "    if ch in result.keys():\n",
    "        result[ch]+=1\n",
    "    else:\n",
    "        result[ch]=1\n",
    "max_num = max(result.values())\n",
    "for item in result.items():\n",
    "    if item[1] == max_num:\n",
    "        print((item[0],item[1]))"
   ],
   "metadata": {
    "collapsed": false,
    "pycharm": {
     "name": "#%%\n"
    }
   }
  },
  {
   "cell_type": "code",
   "execution_count": 17,
   "outputs": [
    {
     "name": "stdout",
     "output_type": "stream",
     "text": [
      "['H', 'ppy birthd', 'y to you!']\n"
     ]
    }
   ],
   "source": [
    "def split(s):\n",
    "    return s.split('a')\n",
    "s = 'Happy birthday to you!'\n",
    "print(split(s))"
   ],
   "metadata": {
    "collapsed": false,
    "pycharm": {
     "name": "#%%\n"
    }
   }
  },
  {
   "cell_type": "code",
   "execution_count": 16,
   "outputs": [
    {
     "data": {
      "text/plain": "15"
     },
     "execution_count": 16,
     "metadata": {},
     "output_type": "execute_result"
    }
   ],
   "source": [
    "def demo(x, y, op):\n",
    "    return eval(str(x)+op+str(y))\n",
    "demo(3, 5, '*')"
   ],
   "metadata": {
    "collapsed": false,
    "pycharm": {
     "name": "#%%\n"
    }
   }
  },
  {
   "cell_type": "code",
   "execution_count": 14,
   "outputs": [
    {
     "data": {
      "text/plain": "[5, 7, 9]"
     },
     "execution_count": 14,
     "metadata": {},
     "output_type": "execute_result"
    }
   ],
   "source": [
    "list(map(int,['5','7','9']))"
   ],
   "metadata": {
    "collapsed": false,
    "pycharm": {
     "name": "#%%\n"
    }
   }
  },
  {
   "cell_type": "code",
   "execution_count": 18,
   "outputs": [
    {
     "name": "stdout",
     "output_type": "stream",
     "text": [
      "('a', 1)\n",
      "('b', 2)\n",
      "('c', 3)\n"
     ]
    }
   ],
   "source": [
    "def  varPara(**p):\n",
    "    for  it  in  p.items():\n",
    "        print(it)\n",
    "varPara(a = 1, b = 2, c = 3)"
   ],
   "metadata": {
    "collapsed": false,
    "pycharm": {
     "name": "#%%\n"
    }
   }
  },
  {
   "cell_type": "code",
   "execution_count": 20,
   "outputs": [
    {
     "data": {
      "text/plain": "[(5, 'A', 6), (3, 'B', 9), (2, 'C', 4)]"
     },
     "execution_count": 20,
     "metadata": {},
     "output_type": "execute_result"
    }
   ],
   "source": [
    "alist = [(3,'B' ,9), (5,'A',6), (2,'C',4)]\n",
    "alist.sort(key= lambda e:e[1])\n",
    "alist"
   ],
   "metadata": {
    "collapsed": false,
    "pycharm": {
     "name": "#%%\n"
    }
   }
  },
  {
   "cell_type": "code",
   "execution_count": 19,
   "outputs": [
    {
     "data": {
      "text/plain": "(4, 5, 3, 3)"
     },
     "execution_count": 19,
     "metadata": {},
     "output_type": "execute_result"
    }
   ],
   "source": [
    "tuple(map(lambda x:len(x), {\"http\":80, \"https\" :443, \"ftp\":21, \"ssh\":22}))"
   ],
   "metadata": {
    "collapsed": false,
    "pycharm": {
     "name": "#%%\n"
    }
   }
  },
  {
   "cell_type": "code",
   "execution_count": 21,
   "outputs": [
    {
     "data": {
      "text/plain": "[1, 2, 3]"
     },
     "execution_count": 21,
     "metadata": {},
     "output_type": "execute_result"
    }
   ],
   "source": [
    "list(map(lambda x: len(x), ['a', 'bb', 'ccc']))"
   ],
   "metadata": {
    "collapsed": false,
    "pycharm": {
     "name": "#%%\n"
    }
   }
  },
  {
   "cell_type": "code",
   "execution_count": 22,
   "outputs": [
    {
     "name": "stdout",
     "output_type": "stream",
     "text": [
      "b = [1, 2, 3]\n",
      "a = [2, 4, 6]\n",
      "b = [2, 4, 6]\n"
     ]
    }
   ],
   "source": [
    "def changeList(a):\n",
    "    for i in range(len(a)):\n",
    "        a[i] = a[i] * 2\n",
    "    print(\"a =\", a)\n",
    "b = [1, 2, 3]\n",
    "print(\"b =\", b)\n",
    "changeList(b)\n",
    "print(\"b =\", b)"
   ],
   "metadata": {
    "collapsed": false,
    "pycharm": {
     "name": "#%%\n"
    }
   }
  },
  {
   "cell_type": "code",
   "execution_count": 23,
   "outputs": [
    {
     "name": "stdout",
     "output_type": "stream",
     "text": [
      "('i', 3)\n"
     ]
    }
   ],
   "source": [
    "import string\n",
    "mystring='in the dictionary'\n",
    "mydict=dict.fromkeys(mystring, 0)\n",
    "for i in mystring:\n",
    "    mydict[i]=mydict[i]+1\n",
    "max_num = max(mydict.values())\n",
    "for item in mydict.items():\n",
    "    if item[1] == max_num:\n",
    "        print((item[0], item[1]))"
   ],
   "metadata": {
    "collapsed": false,
    "pycharm": {
     "name": "#%%\n"
    }
   }
  },
  {
   "cell_type": "code",
   "execution_count": 25,
   "outputs": [
    {
     "name": "stdout",
     "output_type": "stream",
     "text": [
      "('me', 6)('follow', 5)('hands', 4)"
     ]
    }
   ],
   "source": [
    "fb= open('test.txt','r')\n",
    "wordfre = {}\n",
    "for line in fb:\n",
    "    sword = line.split()\n",
    "    for word in sword:\n",
    "        if word in wordfre:\n",
    "            wordfre[word]+=1\n",
    "        else:\n",
    "            wordfre[word] = 1\n",
    "wordfrehigh=[]\n",
    "for item in wordfre.items():\n",
    "    wordfrehigh.append(item)\n",
    "wordfrehigh.sort(key = lambda e:e[1])\n",
    "for wd in wordfrehigh[:-4:-1]:\n",
    "    print(wd, end='')\n",
    "fb.close()"
   ],
   "metadata": {
    "collapsed": false,
    "pycharm": {
     "name": "#%%\n"
    }
   }
  },
  {
   "cell_type": "code",
   "execution_count": 27,
   "outputs": [
    {
     "name": "stdout",
     "output_type": "stream",
     "text": [
      "Error: End of file excepted.\n",
      "Error: End of file excepted.\n",
      "Error:file not found\n",
      "Error:file not found\n",
      "Error:file not found\n",
      "Error:file not found\n",
      "Error:file not found\n",
      "Error:file not found\n",
      "Error:file not found\n",
      "Error:file not found\n",
      "Error:file not found\n",
      "Error:file not found\n",
      "Error:file not found\n"
     ]
    },
    {
     "ename": "KeyboardInterrupt",
     "evalue": "Interrupted by user",
     "output_type": "error",
     "traceback": [
      "\u001B[1;31m---------------------------------------------------------------------------\u001B[0m",
      "\u001B[1;31mKeyboardInterrupt\u001B[0m                         Traceback (most recent call last)",
      "\u001B[1;32m<ipython-input-27-50f7dff54cde>\u001B[0m in \u001B[0;36m<module>\u001B[1;34m\u001B[0m\n\u001B[0;32m     35\u001B[0m     \u001B[1;32mreturn\u001B[0m \u001B[0mdata\u001B[0m\u001B[1;33m\u001B[0m\u001B[1;33m\u001B[0m\u001B[0m\n\u001B[0;32m     36\u001B[0m \u001B[1;32mif\u001B[0m \u001B[0m__name__\u001B[0m \u001B[1;33m==\u001B[0m \u001B[1;34m'__main__'\u001B[0m\u001B[1;33m:\u001B[0m\u001B[1;33m\u001B[0m\u001B[1;33m\u001B[0m\u001B[0m\n\u001B[1;32m---> 37\u001B[1;33m     \u001B[0mmain\u001B[0m\u001B[1;33m(\u001B[0m\u001B[1;33m)\u001B[0m\u001B[1;33m\u001B[0m\u001B[1;33m\u001B[0m\u001B[0m\n\u001B[0m",
      "\u001B[1;32m<ipython-input-27-50f7dff54cde>\u001B[0m in \u001B[0;36mmain\u001B[1;34m()\u001B[0m\n\u001B[0;32m      3\u001B[0m     \u001B[1;32mwhile\u001B[0m \u001B[1;32mnot\u001B[0m \u001B[0mdone\u001B[0m\u001B[1;33m:\u001B[0m\u001B[1;33m\u001B[0m\u001B[1;33m\u001B[0m\u001B[0m\n\u001B[0;32m      4\u001B[0m         \u001B[1;32mtry\u001B[0m\u001B[1;33m:\u001B[0m\u001B[1;33m\u001B[0m\u001B[1;33m\u001B[0m\u001B[0m\n\u001B[1;32m----> 5\u001B[1;33m             \u001B[0mfilename\u001B[0m \u001B[1;33m=\u001B[0m \u001B[0minput\u001B[0m\u001B[1;33m(\u001B[0m\u001B[1;34m\"please enter the file name:\"\u001B[0m\u001B[1;33m)\u001B[0m\u001B[1;33m\u001B[0m\u001B[1;33m\u001B[0m\u001B[0m\n\u001B[0m\u001B[0;32m      6\u001B[0m             \u001B[0mdata\u001B[0m \u001B[1;33m=\u001B[0m \u001B[0mreadfile\u001B[0m\u001B[1;33m(\u001B[0m\u001B[0mfilename\u001B[0m\u001B[1;33m)\u001B[0m\u001B[1;33m\u001B[0m\u001B[1;33m\u001B[0m\u001B[0m\n\u001B[0;32m      7\u001B[0m             \u001B[0mtotal\u001B[0m\u001B[1;33m=\u001B[0m\u001B[1;36m0\u001B[0m\u001B[1;33m\u001B[0m\u001B[1;33m\u001B[0m\u001B[0m\n",
      "\u001B[1;32mc:\\python\\python39\\lib\\site-packages\\ipykernel\\kernelbase.py\u001B[0m in \u001B[0;36mraw_input\u001B[1;34m(self, prompt)\u001B[0m\n\u001B[0;32m    846\u001B[0m                 \u001B[1;34m\"raw_input was called, but this frontend does not support input requests.\"\u001B[0m\u001B[1;33m\u001B[0m\u001B[1;33m\u001B[0m\u001B[0m\n\u001B[0;32m    847\u001B[0m             )\n\u001B[1;32m--> 848\u001B[1;33m         return self._input_request(str(prompt),\n\u001B[0m\u001B[0;32m    849\u001B[0m             \u001B[0mself\u001B[0m\u001B[1;33m.\u001B[0m\u001B[0m_parent_ident\u001B[0m\u001B[1;33m,\u001B[0m\u001B[1;33m\u001B[0m\u001B[1;33m\u001B[0m\u001B[0m\n\u001B[0;32m    850\u001B[0m             \u001B[0mself\u001B[0m\u001B[1;33m.\u001B[0m\u001B[0m_parent_header\u001B[0m\u001B[1;33m,\u001B[0m\u001B[1;33m\u001B[0m\u001B[1;33m\u001B[0m\u001B[0m\n",
      "\u001B[1;32mc:\\python\\python39\\lib\\site-packages\\ipykernel\\kernelbase.py\u001B[0m in \u001B[0;36m_input_request\u001B[1;34m(self, prompt, ident, parent, password)\u001B[0m\n\u001B[0;32m    890\u001B[0m             \u001B[1;32mexcept\u001B[0m \u001B[0mKeyboardInterrupt\u001B[0m\u001B[1;33m:\u001B[0m\u001B[1;33m\u001B[0m\u001B[1;33m\u001B[0m\u001B[0m\n\u001B[0;32m    891\u001B[0m                 \u001B[1;31m# re-raise KeyboardInterrupt, to truncate traceback\u001B[0m\u001B[1;33m\u001B[0m\u001B[1;33m\u001B[0m\u001B[0m\n\u001B[1;32m--> 892\u001B[1;33m                 \u001B[1;32mraise\u001B[0m \u001B[0mKeyboardInterrupt\u001B[0m\u001B[1;33m(\u001B[0m\u001B[1;34m\"Interrupted by user\"\u001B[0m\u001B[1;33m)\u001B[0m \u001B[1;32mfrom\u001B[0m \u001B[1;32mNone\u001B[0m\u001B[1;33m\u001B[0m\u001B[1;33m\u001B[0m\u001B[0m\n\u001B[0m\u001B[0;32m    893\u001B[0m             \u001B[1;32mexcept\u001B[0m \u001B[0mException\u001B[0m \u001B[1;32mas\u001B[0m \u001B[0me\u001B[0m\u001B[1;33m:\u001B[0m\u001B[1;33m\u001B[0m\u001B[1;33m\u001B[0m\u001B[0m\n\u001B[0;32m    894\u001B[0m                 \u001B[0mself\u001B[0m\u001B[1;33m.\u001B[0m\u001B[0mlog\u001B[0m\u001B[1;33m.\u001B[0m\u001B[0mwarning\u001B[0m\u001B[1;33m(\u001B[0m\u001B[1;34m\"Invalid Message:\"\u001B[0m\u001B[1;33m,\u001B[0m \u001B[0mexc_info\u001B[0m\u001B[1;33m=\u001B[0m\u001B[1;32mTrue\u001B[0m\u001B[1;33m)\u001B[0m\u001B[1;33m\u001B[0m\u001B[1;33m\u001B[0m\u001B[0m\n",
      "\u001B[1;31mKeyboardInterrupt\u001B[0m: Interrupted by user"
     ]
    }
   ],
   "source": [
    "def main():\n",
    "    done = False\n",
    "    while not done:\n",
    "        try:\n",
    "            filename = input(\"please enter the file name:\")\n",
    "            data = readfile(filename)\n",
    "            total=0\n",
    "            for value in data:\n",
    "                total = total + value\n",
    "                print(\"the sum is\", total)\n",
    "                done = True\n",
    "        except IOError:\n",
    "            print(\"Error:file not found\")\n",
    "        except ValueError:\n",
    "            print (\"Error:file contents invalid\")\n",
    "        except RuntimeError as error:\n",
    "            print(\"Error:\", str(error))\n",
    "def readfile(filename):\n",
    "    infile = open(filename, \"r\")\n",
    "    try:\n",
    "        return readdata(infile)\n",
    "    finally:\n",
    "        infile.close()\n",
    "def readdata(infile):\n",
    "    line = infile.readline()\n",
    "    numberofvalues = int(line)\n",
    "    data = []\n",
    "    for i in range(numberofvalues):\n",
    "        line = infile.readline()\n",
    "        value = int(line)\n",
    "        data.append(value)\n",
    "    line = infile.readline()\n",
    "    if line != \"\": #检测多于预期输入的异常\n",
    "        raise RuntimeError(\"End of file excepted.\")\n",
    "    return data\n",
    "if __name__ == '__main__':\n",
    "    main()\n"
   ],
   "metadata": {
    "collapsed": false,
    "pycharm": {
     "name": "#%%\n"
    }
   }
  },
  {
   "cell_type": "code",
   "execution_count": 28,
   "outputs": [
    {
     "name": "stdout",
     "output_type": "stream",
     "text": [
      "Error:file contents invalid\n",
      "Error:file not found\n",
      "Error:file not found\n",
      "Error:file not found\n",
      "Error:file not found\n",
      "Error:file not found\n",
      "Error:file not found\n",
      "Error:file not found\n",
      "Error:file not found\n",
      "Error:file not found\n",
      "Error:file not found\n",
      "Error:file not found\n"
     ]
    },
    {
     "ename": "KeyboardInterrupt",
     "evalue": "Interrupted by user",
     "output_type": "error",
     "traceback": [
      "\u001B[1;31m---------------------------------------------------------------------------\u001B[0m",
      "\u001B[1;31mKeyboardInterrupt\u001B[0m                         Traceback (most recent call last)",
      "\u001B[1;32m<ipython-input-28-50f7dff54cde>\u001B[0m in \u001B[0;36m<module>\u001B[1;34m\u001B[0m\n\u001B[0;32m     35\u001B[0m     \u001B[1;32mreturn\u001B[0m \u001B[0mdata\u001B[0m\u001B[1;33m\u001B[0m\u001B[1;33m\u001B[0m\u001B[0m\n\u001B[0;32m     36\u001B[0m \u001B[1;32mif\u001B[0m \u001B[0m__name__\u001B[0m \u001B[1;33m==\u001B[0m \u001B[1;34m'__main__'\u001B[0m\u001B[1;33m:\u001B[0m\u001B[1;33m\u001B[0m\u001B[1;33m\u001B[0m\u001B[0m\n\u001B[1;32m---> 37\u001B[1;33m     \u001B[0mmain\u001B[0m\u001B[1;33m(\u001B[0m\u001B[1;33m)\u001B[0m\u001B[1;33m\u001B[0m\u001B[1;33m\u001B[0m\u001B[0m\n\u001B[0m",
      "\u001B[1;32m<ipython-input-28-50f7dff54cde>\u001B[0m in \u001B[0;36mmain\u001B[1;34m()\u001B[0m\n\u001B[0;32m      3\u001B[0m     \u001B[1;32mwhile\u001B[0m \u001B[1;32mnot\u001B[0m \u001B[0mdone\u001B[0m\u001B[1;33m:\u001B[0m\u001B[1;33m\u001B[0m\u001B[1;33m\u001B[0m\u001B[0m\n\u001B[0;32m      4\u001B[0m         \u001B[1;32mtry\u001B[0m\u001B[1;33m:\u001B[0m\u001B[1;33m\u001B[0m\u001B[1;33m\u001B[0m\u001B[0m\n\u001B[1;32m----> 5\u001B[1;33m             \u001B[0mfilename\u001B[0m \u001B[1;33m=\u001B[0m \u001B[0minput\u001B[0m\u001B[1;33m(\u001B[0m\u001B[1;34m\"please enter the file name:\"\u001B[0m\u001B[1;33m)\u001B[0m\u001B[1;33m\u001B[0m\u001B[1;33m\u001B[0m\u001B[0m\n\u001B[0m\u001B[0;32m      6\u001B[0m             \u001B[0mdata\u001B[0m \u001B[1;33m=\u001B[0m \u001B[0mreadfile\u001B[0m\u001B[1;33m(\u001B[0m\u001B[0mfilename\u001B[0m\u001B[1;33m)\u001B[0m\u001B[1;33m\u001B[0m\u001B[1;33m\u001B[0m\u001B[0m\n\u001B[0;32m      7\u001B[0m             \u001B[0mtotal\u001B[0m\u001B[1;33m=\u001B[0m\u001B[1;36m0\u001B[0m\u001B[1;33m\u001B[0m\u001B[1;33m\u001B[0m\u001B[0m\n",
      "\u001B[1;32mc:\\python\\python39\\lib\\site-packages\\ipykernel\\kernelbase.py\u001B[0m in \u001B[0;36mraw_input\u001B[1;34m(self, prompt)\u001B[0m\n\u001B[0;32m    846\u001B[0m                 \u001B[1;34m\"raw_input was called, but this frontend does not support input requests.\"\u001B[0m\u001B[1;33m\u001B[0m\u001B[1;33m\u001B[0m\u001B[0m\n\u001B[0;32m    847\u001B[0m             )\n\u001B[1;32m--> 848\u001B[1;33m         return self._input_request(str(prompt),\n\u001B[0m\u001B[0;32m    849\u001B[0m             \u001B[0mself\u001B[0m\u001B[1;33m.\u001B[0m\u001B[0m_parent_ident\u001B[0m\u001B[1;33m,\u001B[0m\u001B[1;33m\u001B[0m\u001B[1;33m\u001B[0m\u001B[0m\n\u001B[0;32m    850\u001B[0m             \u001B[0mself\u001B[0m\u001B[1;33m.\u001B[0m\u001B[0m_parent_header\u001B[0m\u001B[1;33m,\u001B[0m\u001B[1;33m\u001B[0m\u001B[1;33m\u001B[0m\u001B[0m\n",
      "\u001B[1;32mc:\\python\\python39\\lib\\site-packages\\ipykernel\\kernelbase.py\u001B[0m in \u001B[0;36m_input_request\u001B[1;34m(self, prompt, ident, parent, password)\u001B[0m\n\u001B[0;32m    890\u001B[0m             \u001B[1;32mexcept\u001B[0m \u001B[0mKeyboardInterrupt\u001B[0m\u001B[1;33m:\u001B[0m\u001B[1;33m\u001B[0m\u001B[1;33m\u001B[0m\u001B[0m\n\u001B[0;32m    891\u001B[0m                 \u001B[1;31m# re-raise KeyboardInterrupt, to truncate traceback\u001B[0m\u001B[1;33m\u001B[0m\u001B[1;33m\u001B[0m\u001B[0m\n\u001B[1;32m--> 892\u001B[1;33m                 \u001B[1;32mraise\u001B[0m \u001B[0mKeyboardInterrupt\u001B[0m\u001B[1;33m(\u001B[0m\u001B[1;34m\"Interrupted by user\"\u001B[0m\u001B[1;33m)\u001B[0m \u001B[1;32mfrom\u001B[0m \u001B[1;32mNone\u001B[0m\u001B[1;33m\u001B[0m\u001B[1;33m\u001B[0m\u001B[0m\n\u001B[0m\u001B[0;32m    893\u001B[0m             \u001B[1;32mexcept\u001B[0m \u001B[0mException\u001B[0m \u001B[1;32mas\u001B[0m \u001B[0me\u001B[0m\u001B[1;33m:\u001B[0m\u001B[1;33m\u001B[0m\u001B[1;33m\u001B[0m\u001B[0m\n\u001B[0;32m    894\u001B[0m                 \u001B[0mself\u001B[0m\u001B[1;33m.\u001B[0m\u001B[0mlog\u001B[0m\u001B[1;33m.\u001B[0m\u001B[0mwarning\u001B[0m\u001B[1;33m(\u001B[0m\u001B[1;34m\"Invalid Message:\"\u001B[0m\u001B[1;33m,\u001B[0m \u001B[0mexc_info\u001B[0m\u001B[1;33m=\u001B[0m\u001B[1;32mTrue\u001B[0m\u001B[1;33m)\u001B[0m\u001B[1;33m\u001B[0m\u001B[1;33m\u001B[0m\u001B[0m\n",
      "\u001B[1;31mKeyboardInterrupt\u001B[0m: Interrupted by user"
     ]
    }
   ],
   "source": [
    "def main():\n",
    "    done = False\n",
    "    while not done:\n",
    "        try:\n",
    "            filename = input(\"please enter the file name:\")\n",
    "            data = readfile(filename)\n",
    "            total=0\n",
    "            for value in data:\n",
    "                total = total + value\n",
    "                print(\"the sum is\", total)\n",
    "                done = True\n",
    "        except IOError:\n",
    "            print(\"Error:file not found\")\n",
    "        except ValueError:\n",
    "            print (\"Error:file contents invalid\")\n",
    "        except RuntimeError as error:\n",
    "            print(\"Error:\", str(error))\n",
    "def readfile(filename):\n",
    "    infile = open(filename, \"r\")\n",
    "    try:\n",
    "        return readdata(infile)\n",
    "    finally:\n",
    "        infile.close()\n",
    "def readdata(infile):\n",
    "    line = infile.readline()\n",
    "    numberofvalues = int(line)\n",
    "    data = []\n",
    "    for i in range(numberofvalues):\n",
    "        line = infile.readline()\n",
    "        value = int(line)\n",
    "        data.append(value)\n",
    "    line = infile.readline()\n",
    "    if line != \"\": #检测多于预期输入的异常\n",
    "        raise RuntimeError(\"End of file excepted.\")\n",
    "    return data\n",
    "if __name__ == '__main__':\n",
    "    main()"
   ],
   "metadata": {
    "collapsed": false,
    "pycharm": {
     "name": "#%%\n"
    }
   }
  },
  {
   "cell_type": "code",
   "execution_count": null,
   "outputs": [],
   "source": [
    "def main():\n",
    "    done = False\n",
    "    while not done:\n",
    "        try:\n",
    "            filename = input(\"please enter the file name:\")\n",
    "            data = readfile(filename)\n",
    "            total=0\n",
    "            for value in data:\n",
    "                total = total + value\n",
    "                print(\"the sum is\", total)\n",
    "                done = True\n",
    "        except IOError:\n",
    "            print(\"Error:file not found\")\n",
    "        except ValueError:\n",
    "            print (\"Error:file contents invalid\")\n",
    "        except RuntimeError as error:\n",
    "            print(\"Error:\", str(error))\n",
    "def readfile(filename):\n",
    "    infile = open(filename, \"r\")\n",
    "    try:\n",
    "        return readdata(infile)\n",
    "    finally:\n",
    "        infile.close()\n",
    "def readdata(infile):\n",
    "    line = infile.readline()\n",
    "    numberofvalues = int(line)\n",
    "    data = []\n",
    "    for i in range(numberofvalues):\n",
    "        line = infile.readline()\n",
    "        value = int(line)\n",
    "        data.append(value)\n",
    "    line = infile.readline()\n",
    "    if line != \"\": #检测多于预期输入的异常\n",
    "        raise RuntimeError(\"End of file excepted.\")\n",
    "    return data\n",
    "if __name__ == '__main__':\n",
    "    main()"
   ],
   "metadata": {
    "collapsed": false,
    "pycharm": {
     "name": "#%%\n"
    }
   }
  }
 ],
 "metadata": {
  "kernelspec": {
   "display_name": "Python 3",
   "language": "python",
   "name": "python3"
  },
  "language_info": {
   "codemirror_mode": {
    "name": "ipython",
    "version": 2
   },
   "file_extension": ".py",
   "mimetype": "text/x-python",
   "name": "python",
   "nbconvert_exporter": "python",
   "pygments_lexer": "ipython2",
   "version": "2.7.6"
  }
 },
 "nbformat": 4,
 "nbformat_minor": 0
}