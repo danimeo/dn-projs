{
 "cells": [
  {
   "cell_type": "markdown",
   "metadata": {
    "collapsed": true,
    "pycharm": {
     "name": "#%% md\n"
    }
   },
   "source": []
  },
  {
   "cell_type": "markdown",
   "source": [
    "**Inconel 718 金相组织结构：**\n",
    "\n",
    "该合金标准热处理状态的组织由γ基体γ'、γ\"、δ、NbC相组成。\n",
    "<br/>\n",
    "$\\Large  c = \\sqrt{a^{2}+b_{xy}^{2}+e^{x}} $  $\\Large \\frac{\\partial \\rho\\Phi_k}{\\partial x}$"
   ],
   "metadata": {
    "collapsed": false,
    "pycharm": {
     "name": "#%% md\n",
     "is_executing": true
    }
   }
  }
 ],
 "metadata": {
  "kernelspec": {
   "display_name": "Python 3",
   "language": "python",
   "name": "python3"
  },
  "language_info": {
   "codemirror_mode": {
    "name": "ipython",
    "version": 2
   },
   "file_extension": ".py",
   "mimetype": "text/x-python",
   "name": "python",
   "nbconvert_exporter": "python",
   "pygments_lexer": "ipython2",
   "version": "2.7.6"
  }
 },
 "nbformat": 4,
 "nbformat_minor": 0
}