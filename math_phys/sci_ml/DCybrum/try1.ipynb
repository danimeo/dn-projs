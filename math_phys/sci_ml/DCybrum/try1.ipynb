{
 "cells": [
  {
   "cell_type": "markdown",
   "source": [],
   "metadata": {
    "collapsed": false,
    "pycharm": {
     "name": "#%% md\n"
    }
   }
  },
  {
   "cell_type": "code",
   "execution_count": 8,
   "metadata": {
    "collapsed": true,
    "pycharm": {
     "name": "#%%\n"
    }
   },
   "outputs": [
    {
     "name": "stdout",
     "output_type": "stream",
     "text": [
      "gpu vector add time 8.963140726089478\n",
      "cpu vector add time 0.42972564697265625\n"
     ]
    }
   ],
   "source": []
  },
  {
   "cell_type": "code",
   "execution_count": 9,
   "outputs": [
    {
     "name": "stdout",
     "output_type": "stream",
     "text": [
      "<Managed Device 0>\n"
     ]
    }
   ],
   "source": [
    "from numba import cuda\n",
    "print(cuda.gpus)"
   ],
   "metadata": {
    "collapsed": false,
    "pycharm": {
     "name": "#%%\n"
    }
   }
  },
  {
   "cell_type": "code",
   "execution_count": 18,
   "outputs": [],
   "source": [],
   "metadata": {
    "collapsed": false,
    "pycharm": {
     "name": "#%%\n"
    }
   }
  },
  {
   "cell_type": "code",
   "execution_count": null,
   "outputs": [],
   "source": [
    "from numba import cuda\n",
    "import numpy as np\n",
    "import math\n",
    "from time import time\n",
    "\n",
    "@cuda.jit\n",
    "def gpu_add(a, b, result, n):\n",
    "    idx = cuda.threadIdx.x + cuda.blockDim.x * cuda.blockIdx.x\n",
    "    if idx < n :\n",
    "        result[idx] = a[idx] * b[idx]\n",
    "\n",
    "def main():\n",
    "    n = 20000000\n",
    "    x = np.arange(n).astype(np.int32)\n",
    "    y = 2 * x\n",
    "\n",
    "    # 拷贝数据到设备端\n",
    "    x_device = cuda.to_device(x)\n",
    "    y_device = cuda.to_device(y)\n",
    "    # 在显卡设备上初始化一块用于存放GPU计算结果的空间\n",
    "    gpu_result = cuda.device_array(n)\n",
    "    cpu_result = np.empty(n)\n",
    "\n",
    "    threads_per_block = 1024\n",
    "    blocks_per_grid = math.ceil(n / threads_per_block)\n",
    "    start = time()\n",
    "    gpu_add[blocks_per_grid, threads_per_block](x_device, y_device, gpu_result, n)\n",
    "    cuda.synchronize()\n",
    "    print(\"gpu vector add time \" + str(time() - start))\n",
    "    start = time()\n",
    "    cpu_result = np.add(x, y)\n",
    "    print(\"cpu vector add time \" + str(time() - start))\n",
    "\n",
    "    if np.array_equal(cpu_result, gpu_result.copy_to_host()):\n",
    "        print(\"result correct!\")\n",
    "\n",
    "if __name__ == \"__main__\":\n",
    "    main()"
   ],
   "metadata": {
    "collapsed": false,
    "pycharm": {
     "name": "#%%\n"
    }
   }
  },
  {
   "cell_type": "code",
   "execution_count": null,
   "outputs": [],
   "source": [],
   "metadata": {
    "collapsed": false,
    "pycharm": {
     "name": "#%%\n"
    }
   }
  }
 ],
 "metadata": {
  "kernelspec": {
   "display_name": "Python 3",
   "language": "python",
   "name": "python3"
  },
  "language_info": {
   "codemirror_mode": {
    "name": "ipython",
    "version": 2
   },
   "file_extension": ".py",
   "mimetype": "text/x-python",
   "name": "python",
   "nbconvert_exporter": "python",
   "pygments_lexer": "ipython2",
   "version": "2.7.6"
  }
 },
 "nbformat": 4,
 "nbformat_minor": 0
}