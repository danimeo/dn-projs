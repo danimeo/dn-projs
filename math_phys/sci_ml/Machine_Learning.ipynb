{
 "cells": [
  {
   "cell_type": "markdown",
   "metadata": {
    "collapsed": true,
    "pycharm": {
     "name": "#%% md\n"
    }
   },
   "source": [
    "### Dajun Python机器学习基础学习笔记 （2021.11 ~ 2021.12）"
   ]
  },
  {
   "cell_type": "code",
   "execution_count": 11,
   "outputs": [
    {
     "name": "stdout",
     "output_type": "stream",
     "text": [
      "246\n",
      "246\n",
      "[0 1 2 3 4 5 6 7 8 9]\n"
     ]
    }
   ],
   "source": [
    "import numpy as np\n",
    "import pandas as pd\n",
    "\n",
    "arr1 = np.random.randint(1,10, size=(10,))\n",
    "arr2 = np.arange(10)\n",
    "print(arr1.T.dot(arr2), np.inner(arr1, arr2), arr2, sep='\\n')\n",
    "\n",
    "df1 = pd.DataFrame()"
   ],
   "metadata": {
    "collapsed": false,
    "pycharm": {
     "name": "#%%\n"
    }
   }
  },
  {
   "cell_type": "markdown",
   "source": [
    "#### NumPy基本操作"
   ],
   "metadata": {
    "collapsed": false,
    "pycharm": {
     "name": "#%% md\n"
    }
   }
  },
  {
   "cell_type": "markdown",
   "source": [
    "1. arr2.cumsum()求累计和\n",
    "2. 用np.sort()排序不会改变原数组\n",
    "3. np.rint()四舍五入（仍为浮点型）\n",
    "4. np.sign()取符号\n",
    "5. np.where(arr2>6) 取满足条件的元素\n",
    "6. arr.T矩阵转置\n",
    "7. arr1.dot(arr2)矩阵乘法（不是逐元素乘！）；向量内积np.inner(arr1, arr2)等于arr1.T.dot(arr2)\n",
    "8. 其他常用线性代数运算在numpy.linalg模块中，如逆inv(mat), 行列式det(mat), 特征值和特征向量eig(mat), 奇异值分解svd(mat)\n",
    "9."
   ],
   "metadata": {
    "collapsed": false,
    "pycharm": {
     "name": "#%% md\n"
    }
   }
  },
  {
   "cell_type": "markdown",
   "source": [
    "#### Pandas基本操作   （pandas == Python data analysis ???）"
   ],
   "metadata": {
    "collapsed": false,
    "pycharm": {
     "name": "#%% md\n"
    }
   }
  }
 ],
 "metadata": {
  "kernelspec": {
   "display_name": "Python 3",
   "language": "python",
   "name": "python3"
  },
  "language_info": {
   "codemirror_mode": {
    "name": "ipython",
    "version": 2
   },
   "file_extension": ".py",
   "mimetype": "text/x-python",
   "name": "python",
   "nbconvert_exporter": "python",
   "pygments_lexer": "ipython2",
   "version": "2.7.6"
  }
 },
 "nbformat": 4,
 "nbformat_minor": 0
}