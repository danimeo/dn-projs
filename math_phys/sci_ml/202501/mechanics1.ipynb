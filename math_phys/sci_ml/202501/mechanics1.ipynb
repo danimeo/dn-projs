{
 "cells": [
  {
   "cell_type": "markdown",
   "metadata": {},
   "source": [
    "8 应力应变状态分析\n"
   ]
  },
  {
   "cell_type": "code",
   "execution_count": null,
   "metadata": {},
   "outputs": [],
   "source": []
  },
  {
   "cell_type": "markdown",
   "metadata": {},
   "source": [
    "拉格朗日力学\n"
   ]
  },
  {
   "cell_type": "code",
   "execution_count": 4,
   "metadata": {},
   "outputs": [
    {
     "name": "stderr",
     "output_type": "stream",
     "text": [
      "\u001b[32m\u001b[1m   Resolving\u001b[22m\u001b[39m package versions...\n",
      "\u001b[32m\u001b[1m  No Changes\u001b[22m\u001b[39m to `C:\\Users\\danim\\.julia\\environments\\v1.11\\Project.toml`\n",
      "\u001b[32m\u001b[1m  No Changes\u001b[22m\u001b[39m to `C:\\Users\\danim\\.julia\\environments\\v1.11\\Manifest.toml`\n"
     ]
    }
   ],
   "source": [
    "import Pkg; Pkg.add(\"QuadGK\")\n",
    "# Using numerical integration (e.g., QuadGK package)\n",
    "using QuadGK\n",
    "\n",
    "# Define a SmoothFunction struct to hold a function and its gradient\n",
    "struct SmoothFunction\n",
    "    func::Function\n",
    "    grad::Function  # Gradient (derivative)\n",
    "end\n",
    "\n",
    "# Define a Particle struct with mass, position, velocity, and potential energy\n",
    "struct Particle\n",
    "    m::Float64           # Mass\n",
    "    x::SmoothFunction    # Position as a function of time\n",
    "    v::SmoothFunction    # Velocity as a function of time\n",
    "    V::SmoothFunction    # Potential energy as a function of time\n",
    "end\n",
    "\n",
    "# Constant value 1/2\n",
    "const half = 0.5\n",
    "\n",
    "# Velocity raised to the power n\n",
    "function v_pow(z::Particle, n::Int)\n",
    "    new_func = t -> (z.v.func(t))^n\n",
    "    new_grad = t -> n * (z.v.func(t))^(n-1) * z.v.grad(t)\n",
    "    SmoothFunction(new_func, new_grad)\n",
    "end\n",
    "\n",
    "# Kinetic energy (1/2 * m * v^2)\n",
    "function Ek(z::Particle)\n",
    "    m_const = SmoothFunction(t -> z.m, t -> 0.0)  # Constant function for mass\n",
    "    v_sq = v_pow(z, 2)\n",
    "    half_const = SmoothFunction(t -> half, t -> 0.0)  # Constant function for 1/2\n",
    "    # Multiply m_const, v_sq, and half_const\n",
    "    new_func = t -> m_const.func(t) * v_sq.func(t) * half_const.func(t)\n",
    "    new_grad = t -> m_const.grad(t) * v_sq.func(t) * half_const.func(t) +\n",
    "                   m_const.func(t) * v_sq.grad(t) * half_const.func(t) +\n",
    "                   m_const.func(t) * v_sq.func(t) * half_const.grad(t)\n",
    "    SmoothFunction(new_func, new_grad)\n",
    "end\n",
    "\n",
    "# Lagrangian (Ek - V)\n",
    "function L(z::Particle)\n",
    "    ek = Ek(z)\n",
    "    new_func = t -> ek.func(t) - z.V.func(t)\n",
    "    new_grad = t -> ek.grad(t) - z.V.grad(t)\n",
    "    SmoothFunction(new_func, new_grad)\n",
    "end\n",
    "\n",
    "# Action (integral of the Lagrangian over time)\n",
    "function Action(z::Particle, t_start::Float64, t_end::Float64)\n",
    "    integrand = L(z)\n",
    "    integral, _ = quadgk(integrand.func, t_start, t_end)\n",
    "    integral\n",
    "end\n",
    "\n",
    "# Derivative of the Lagrangian with respect to velocity (m * v)\n",
    "function Deriv_L_v(z::Particle)\n",
    "    new_func = t -> z.m * z.v.func(t)\n",
    "    new_grad = t -> z.m * z.v.grad(t)\n",
    "    SmoothFunction(new_func, new_grad)\n",
    "end\n",
    "\n",
    "# Derivative of the Lagrangian with respect to position (m * grad V)\n",
    "function Deriv_L_x(z::Particle)\n",
    "    new_func = x -> z.m * z.V.grad(x)\n",
    "    # Assuming grad V is a function of position x\n",
    "    SmoothFunction(new_func, x -> 0.0)  # Gradient is zero as it's already the derivative\n",
    "end\n",
    "\n",
    "# Lagrangian System enforcing the Euler-Lagrange equation\n",
    "struct LagrangianSystem\n",
    "    particle::Particle\n",
    "    # Constructor checks Euler-Lagrange equation\n",
    "    function LagrangianSystem(particle::Particle)\n",
    "        # Euler-Lagrange equation: d/dt (dL/dv) = dL/dx\n",
    "        # Check equality of the gradients\n",
    "        # Deriv_L_v_grad = derivative of dL/dv with respect to time\n",
    "        # Deriv_L_x = dL/dx\n",
    "        # Assuming time derivative of dL/dv is the gradient of dL/dv\n",
    "        # Compare gradients at sample points (simplified check)\n",
    "        # For a rigorous check, symbolic differentiation would be needed\n",
    "        sample_t = 0.0:0.1:10.0  # Sample time points\n",
    "        for t in sample_t\n",
    "            el_lhs = Deriv_L_v(particle).grad(t)  # d/dt (dL/dv)\n",
    "            el_rhs = Deriv_L_x(particle).func(t)   # dL/dx\n",
    "            if abs(el_lhs - el_rhs) > 1e-6\n",
    "                error(\"Euler-Lagrange equation not satisfied at t = $t\")\n",
    "            end\n",
    "        end\n",
    "        new(particle)\n",
    "    end\n",
    "end"
   ]
  }
 ],
 "metadata": {
  "kernelspec": {
   "display_name": "Julia 1.11.2",
   "language": "julia",
   "name": "julia-1.11"
  },
  "language_info": {
   "file_extension": ".jl",
   "mimetype": "application/julia",
   "name": "julia",
   "version": "1.11.2"
  }
 },
 "nbformat": 4,
 "nbformat_minor": 2
}
