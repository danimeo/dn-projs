{
 "cells": [
  {
   "cell_type": "code",
   "execution_count": 3,
   "metadata": {},
   "outputs": [
    {
     "name": "stdout",
     "output_type": "stream",
     "text": [
      "HEAD\n",
      "master\n",
      "[<git.Head \"refs/heads/master\">, <git.RemoteReference \"refs/remotes/origin/HEAD\">, <git.RemoteReference \"refs/remotes/origin/master\">] HEAD master\n"
     ]
    }
   ],
   "source": [
    "import os\n",
    "os.system(\"pip3 install gitpython\") # 如果没有安装gitpython, 将需要安装gitpython的库\n",
    "import git\n",
    "\n",
    "# 如果仓库还是空的\n",
    "# mkdir snote-001\n",
    "# cd snote-001\n",
    "# git init \n",
    "# touch README.md\n",
    "# git add README.md\n",
    "# git commit -m \"first commit\"\n",
    "# git remote add origin https://gitee.com/danimeo/snote-001.git\n",
    "# git push -u origin \"master\"\n",
    "\n",
    "vault_dir_path = r'C:\\git_repos\\test_vault_dir'\n",
    "vault_name = 'snote-001'\n",
    "\n",
    "remote_path_template = 'https://gitee.com/danimeo/{}.git'\n",
    "\n",
    "# https://gitee.com/danimeo/snote-001\n",
    "\n",
    "\n",
    "vault_path = os.path.join(vault_dir_path, vault_name)\n",
    "remote_path = remote_path_template.format(vault_name)\n",
    "\n",
    "user_info = { 'name': 'danimeo', 'email': 'danimeon@outlook.com' }\n",
    "\n",
    "#添加提交用户 邮箱\n",
    "def git_user(repo_git, user, user_email):\n",
    "    repo_git.config(\"--global\", \"user.name\", \"%s\" %(user))\n",
    "    repo_git.config(\"--global\", \"user.email\", \"%s\" %(user_email))\n",
    "\n",
    "\n",
    "\n",
    "local_exists = lambda: os.path.exists(vault_path)\n",
    "remote_exists = lambda repo: repo is not None and repo.__class__ is git.Repo\n",
    "\n",
    "if not local_exists():\n",
    "    repo = git.Repo.clone_from(remote_path, to_path=vault_path)\n",
    "    if not remote_exists(repo):\n",
    "        os.mkdir(vault_path)\n",
    "        repo = git.Repo.init(path=vault_path)\n",
    "        remote = repo.create_remote('origin', remote_path)\n",
    "    else:\n",
    "        remote = repo.remote()\n",
    "        \n",
    "    repo_git = repo.git()\n",
    "    git_user(repo_git, user_info['name'], user_info['email'])\n",
    "\n",
    "    with open(os.path.join(vault_path, 'README.md'), 'w') as f:\n",
    "        f.write(f'# S-Note Vault {vault_name}\\n---\\nWelcome.\\n')\n",
    "    if remote.refs:\n",
    "        remote.pull()\n",
    "    repo_git.add('-A')\n",
    "    repo_git.commit('-m', 'auto commit')\n",
    "    remote.push()\n",
    "else:\n",
    "    repo = git.Repo(vault_path)\n",
    "    if len(repo.remotes) == 0:\n",
    "        remote = repo.create_remote('origin', remote_path)\n",
    "    else:\n",
    "        remote = repo.remote()\n",
    "    \n",
    "    repo_git = repo.git()\n",
    "    git_user(repo_git, user_info['name'], user_info['email'])\n",
    "\n",
    "\n",
    "\n",
    "\n",
    "\n",
    "\n",
    "branches = repo.remote().refs\n",
    "for item in branches:\n",
    "    print(item.remote_head)\n",
    "\n",
    "print(repo.refs, repo.head, repo.head.ref)\n"
   ]
  }
 ],
 "metadata": {
  "kernelspec": {
   "display_name": "ds",
   "language": "python",
   "name": "python3"
  },
  "language_info": {
   "codemirror_mode": {
    "name": "ipython",
    "version": 3
   },
   "file_extension": ".py",
   "mimetype": "text/x-python",
   "name": "python",
   "nbconvert_exporter": "python",
   "pygments_lexer": "ipython3",
   "version": "3.12.3"
  }
 },
 "nbformat": 4,
 "nbformat_minor": 2
}
