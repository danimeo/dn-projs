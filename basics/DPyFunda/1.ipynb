{
 "cells": [
  {
   "cell_type": "markdown",
   "source": [
    "Python语言基础补充学习笔记 2021.10, Dajun"
   ],
   "metadata": {
    "collapsed": false,
    "pycharm": {
     "name": "#%% md\n"
    }
   }
  },
  {
   "cell_type": "markdown",
   "source": [
    "步长不为1时的一些切片操作："
   ],
   "metadata": {
    "collapsed": false
   }
  },
  {
   "cell_type": "code",
   "execution_count": 33,
   "outputs": [
    {
     "name": "stdout",
     "output_type": "stream",
     "text": [
      "[1, 3, 5]\n",
      "[1, 3, 5, 7]\n",
      "[1, 3, 5, 7]\n"
     ]
    }
   ],
   "source": [
    "l1 = list(range(10))\n",
    "print(l1[1:7:2])\n",
    "print(l1[1:8:2])\n",
    "print(l1[1:9:2])"
   ],
   "metadata": {
    "collapsed": false,
    "pycharm": {
     "name": "#%%\n"
    }
   }
  },
  {
   "cell_type": "code",
   "execution_count": 18,
   "outputs": [
    {
     "name": "stdout",
     "output_type": "stream",
     "text": [
      "!nohtyP evol I\n",
      "!nohtyP evol I\n",
      "!nohtyP evol I\n",
      "!nohtyP evol \n",
      "!nohtyP evol \n"
     ]
    }
   ],
   "source": [
    "s1 = 'I love Python!'\n",
    "print(s1[::-1])\n",
    "print(s1[len(s1)-1::-1])\n",
    "print(s1[len(s1)::-1])\n",
    "print(s1[len(s1)-1:0:-1])\n",
    "print(s1[len(s1):0:-1])"
   ],
   "metadata": {
    "collapsed": false,
    "pycharm": {
     "name": "#%%\n"
    }
   }
  },
  {
   "cell_type": "markdown",
   "source": [
    "range对象不是生成器，也不是迭代器，但可迭代也可切片："
   ],
   "metadata": {
    "collapsed": false
   }
  },
  {
   "cell_type": "code",
   "source": [
    "a = range(10)\n",
    "print(a[2:4])\n",
    "print(type(a))"
   ],
   "metadata": {
    "collapsed": false,
    "pycharm": {
     "name": "#%%\n"
    }
   },
   "execution_count": 58,
   "outputs": [
    {
     "name": "stdout",
     "output_type": "stream",
     "text": [
      "range(2, 4)\n",
      "<class 'range'>\n"
     ]
    }
   ]
  },
  {
   "cell_type": "markdown",
   "source": [
    "列表的sort方法不会改动列表中的子列表："
   ],
   "metadata": {
    "collapsed": false
   }
  },
  {
   "cell_type": "code",
   "execution_count": 25,
   "outputs": [
    {
     "name": "stdout",
     "output_type": "stream",
     "text": [
      "[[5, 6, 7, 8], [1, 2, 3, 4]]\n"
     ]
    }
   ],
   "source": [
    "l2 = [[1, 2, 3, 4], [5, 6, 7, 8]]\n",
    "l2.sort(reverse=True)\n",
    "print(l2)"
   ],
   "metadata": {
    "collapsed": false,
    "pycharm": {
     "name": "#%%\n"
    }
   }
  },
  {
   "cell_type": "markdown",
   "source": [
    "reversed函数返回的是迭代器，而sorted直接返回列表："
   ],
   "metadata": {
    "collapsed": false
   }
  },
  {
   "cell_type": "code",
   "execution_count": 30,
   "outputs": [
    {
     "name": "stdout",
     "output_type": "stream",
     "text": [
      "True\n",
      "[3, 2, 1]\n",
      "<list_reverseiterator object at 0x0000024FB71AFA00>\n"
     ]
    }
   ],
   "source": [
    "print([1, 2] == [1, 2])\n",
    "print(sorted([1,2,3],reverse=True))\n",
    "print(reversed([1,2,3]))"
   ],
   "metadata": {
    "collapsed": false,
    "pycharm": {
     "name": "#%%\n"
    }
   }
  },
  {
   "cell_type": "markdown",
   "source": [
    "对于列表中的子列表，浅拷贝拷贝子列表的地址，深拷贝拷贝其值（拷贝结果是新的子列表）："
   ],
   "metadata": {
    "collapsed": false
   }
  },
  {
   "cell_type": "code",
   "execution_count": 38,
   "outputs": [
    {
     "name": "stdout",
     "output_type": "stream",
     "text": [
      "[3, 5, [7, 1, 11]]\n",
      "[3, 5, [7, 9, 11]]\n",
      "[3, 5, [7, 1, 11]]\n"
     ]
    }
   ],
   "source": [
    "import copy\n",
    "list1 = [3,5,[7,9,11]]\n",
    "list2 = copy.deepcopy(list1)\n",
    "list3 = copy.copy(list1)\n",
    "#list2[2][1]= 1\n",
    "list3[2][1]= 1\n",
    "print(list1)\n",
    "print(list2)\n",
    "print(list3)"
   ],
   "metadata": {
    "collapsed": false,
    "pycharm": {
     "name": "#%%\n"
    }
   }
  },
  {
   "cell_type": "markdown",
   "source": [
    "可使用dict类的静态方法fromkeys来创建新字典，用第二个参数（可选）赋值，值默认为None："
   ],
   "metadata": {
    "collapsed": false
   }
  },
  {
   "cell_type": "code",
   "execution_count": 42,
   "outputs": [
    {
     "name": "stdout",
     "output_type": "stream",
     "text": [
      "{'name': [1, 2, 3], 'age': [1, 2, 3], 'sex': [1, 2, 3]}\n"
     ]
    }
   ],
   "source": [
    "dict1 = dict.fromkeys(['name','age','sex'], [1, 2, 3])\n",
    "\n",
    "print(dict1)"
   ],
   "metadata": {
    "collapsed": false,
    "pycharm": {
     "name": "#%%\n"
    }
   }
  },
  {
   "cell_type": "markdown",
   "source": [
    "使用list()将字典转为列表，得到的是键的列表："
   ],
   "metadata": {
    "collapsed": false
   }
  },
  {
   "cell_type": "code",
   "execution_count": 48,
   "outputs": [
    {
     "name": "stdout",
     "output_type": "stream",
     "text": [
      "['spring', 'summer', 'autumn', 'winter']\n"
     ]
    }
   ],
   "source": [
    "d = dict([('spring',1),('summer',2),('autumn',3),('winter',4)])\n",
    "print(list(d))"
   ],
   "metadata": {
    "collapsed": false,
    "pycharm": {
     "name": "#%%\n"
    }
   }
  },
  {
   "cell_type": "code",
   "execution_count": 51,
   "outputs": [
    {
     "name": "stdout",
     "output_type": "stream",
     "text": [
      "[1, 2, [3, 10], 4] [1, 44, [3, 10], 4]\n"
     ]
    }
   ],
   "source": [
    "a = [1, 2, [3, 6], 4]\n",
    "b = a[:]\n",
    "b[2][1] = 10\n",
    "b[1] = 44\n",
    "print(a, b)"
   ],
   "metadata": {
    "collapsed": false,
    "pycharm": {
     "name": "#%%\n"
    }
   }
  },
  {
   "cell_type": "markdown",
   "source": [
    "切片操作是拷贝而且是浅拷贝，如b = a[:]等同于b = copy.copy(a)。\n",
    "\n",
    "对于下面这个代码块，之所以边遍历边删除元素能够成功，正是因为使用了x[:]对x进行拷贝而避免按下标直接引用x，同时也因为列表的remove()方法是根据值删除第一个具有该值的元素，并不要求i是对x中元素的真实引用。"
   ],
   "metadata": {
    "collapsed": false
   }
  },
  {
   "cell_type": "code",
   "execution_count": 57,
   "outputs": [
    {
     "name": "stdout",
     "output_type": "stream",
     "text": [
      "[2, 2]\n"
     ]
    }
   ],
   "source": [
    "x = [1,2,1,1,1,2]\n",
    "for i in x[:]:\n",
    "    if i == 1:\n",
    "        x.remove(i)\n",
    "print(x)"
   ],
   "metadata": {
    "collapsed": false,
    "pycharm": {
     "name": "#%%\n"
    }
   }
  },
  {
   "cell_type": "markdown",
   "source": [
    "而下面这个代码块就没那么顺利："
   ],
   "metadata": {
    "collapsed": false
   }
  },
  {
   "cell_type": "code",
   "execution_count": 56,
   "outputs": [
    {
     "ename": "IndexError",
     "evalue": "list index out of range",
     "output_type": "error",
     "traceback": [
      "\u001B[1;31m---------------------------------------------------------------------------\u001B[0m",
      "\u001B[1;31mIndexError\u001B[0m                                Traceback (most recent call last)",
      "\u001B[1;32m~\\AppData\\Local\\Temp/ipykernel_21224/145215024.py\u001B[0m in \u001B[0;36m<module>\u001B[1;34m\u001B[0m\n\u001B[0;32m      1\u001B[0m \u001B[0mx\u001B[0m \u001B[1;33m=\u001B[0m\u001B[1;33m[\u001B[0m\u001B[1;36m1\u001B[0m\u001B[1;33m,\u001B[0m\u001B[1;36m2\u001B[0m\u001B[1;33m,\u001B[0m\u001B[1;36m1\u001B[0m\u001B[1;33m,\u001B[0m\u001B[1;36m1\u001B[0m\u001B[1;33m,\u001B[0m\u001B[1;36m1\u001B[0m\u001B[1;33m,\u001B[0m\u001B[1;36m2\u001B[0m\u001B[1;33m]\u001B[0m\u001B[1;33m\u001B[0m\u001B[1;33m\u001B[0m\u001B[0m\n\u001B[0;32m      2\u001B[0m \u001B[1;32mfor\u001B[0m \u001B[0mi\u001B[0m \u001B[1;32min\u001B[0m \u001B[0mrange\u001B[0m\u001B[1;33m(\u001B[0m\u001B[0mlen\u001B[0m\u001B[1;33m(\u001B[0m\u001B[0mx\u001B[0m\u001B[1;33m)\u001B[0m\u001B[1;33m-\u001B[0m\u001B[1;36m1\u001B[0m\u001B[1;33m)\u001B[0m\u001B[1;33m:\u001B[0m\u001B[1;33m\u001B[0m\u001B[1;33m\u001B[0m\u001B[0m\n\u001B[1;32m----> 3\u001B[1;33m     \u001B[1;32mif\u001B[0m \u001B[0mx\u001B[0m\u001B[1;33m[\u001B[0m\u001B[0mi\u001B[0m\u001B[1;33m]\u001B[0m \u001B[1;33m==\u001B[0m \u001B[1;36m1\u001B[0m\u001B[1;33m:\u001B[0m\u001B[1;33m\u001B[0m\u001B[1;33m\u001B[0m\u001B[0m\n\u001B[0m\u001B[0;32m      4\u001B[0m         \u001B[1;32mdel\u001B[0m\u001B[1;33m(\u001B[0m\u001B[0mx\u001B[0m\u001B[1;33m[\u001B[0m\u001B[0mi\u001B[0m\u001B[1;33m]\u001B[0m\u001B[1;33m)\u001B[0m\u001B[1;33m\u001B[0m\u001B[1;33m\u001B[0m\u001B[0m\n\u001B[0;32m      5\u001B[0m \u001B[0mprint\u001B[0m\u001B[1;33m(\u001B[0m\u001B[0mx\u001B[0m\u001B[1;33m)\u001B[0m\u001B[1;33m\u001B[0m\u001B[1;33m\u001B[0m\u001B[0m\n",
      "\u001B[1;31mIndexError\u001B[0m: list index out of range"
     ]
    }
   ],
   "source": [
    "x =[1,2,1,1,1,2]\n",
    "for i in range(len(x)-1):\n",
    "    if x[i] == 1:\n",
    "        del(x[i])\n",
    "print(x)"
   ],
   "metadata": {
    "collapsed": false,
    "pycharm": {
     "name": "#%%\n"
    }
   }
  }
 ],
 "metadata": {
  "kernelspec": {
   "display_name": "Python 3",
   "language": "python",
   "name": "python3"
  },
  "language_info": {
   "codemirror_mode": {
    "name": "ipython",
    "version": 2
   },
   "file_extension": ".py",
   "mimetype": "text/x-python",
   "name": "python",
   "nbconvert_exporter": "python",
   "pygments_lexer": "ipython2",
   "version": "2.7.6"
  }
 },
 "nbformat": 4,
 "nbformat_minor": 0
}